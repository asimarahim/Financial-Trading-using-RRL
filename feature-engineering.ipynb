{
 "cells": [
  {
   "cell_type": "markdown",
   "id": "72222897",
   "metadata": {},
   "source": [
    "## Importing Libraries"
   ]
  },
  {
   "cell_type": "code",
   "execution_count": 1,
   "id": "899a3eaa",
   "metadata": {},
   "outputs": [],
   "source": [
    "#!pip install plotly\n",
    "#!pip install --upgrade mplfinance\n",
    "#!pip install ta-lib\n",
    "#!pip install --upgrade numpy\n",
    "import numpy as np\n",
    "import pandas as pd\n",
    "import requests\n",
    "import io\n",
    "import matplotlib.pyplot as plt\n",
    "import talib\n",
    "import plotly.graph_objects as go\n",
    "import mplfinance as mpl"
   ]
  },
  {
   "cell_type": "markdown",
   "id": "d04759da",
   "metadata": {},
   "source": [
    "## Reading Data"
   ]
  },
  {
   "cell_type": "code",
   "execution_count": 2,
   "id": "ccf3e0e2",
   "metadata": {},
   "outputs": [],
   "source": [
    "url=\"https://raw.githubusercontent.com/vishalprakash97/Financial-Trading-using-RRL/main/Security%20Data/NYSE_20yr_OHLC.csv\"\n",
    "download = requests.get(url).content\n",
    "\n",
    "df = pd.read_csv(io.StringIO(download.decode('utf-8')))"
   ]
  },
  {
   "cell_type": "code",
   "execution_count": 3,
   "id": "77d8799b",
   "metadata": {},
   "outputs": [],
   "source": [
    "df.drop(columns=['Name'],inplace=True)\n",
    "df['Date']=pd.to_datetime(df['Date'])"
   ]
  },
  {
   "cell_type": "markdown",
   "id": "b50d7b2e",
   "metadata": {},
   "source": [
    "## EDA"
   ]
  },
  {
   "cell_type": "code",
   "execution_count": 4,
   "id": "e181a8b7",
   "metadata": {},
   "outputs": [
    {
     "data": {
      "text/html": [
       "<div>\n",
       "<style scoped>\n",
       "    .dataframe tbody tr th:only-of-type {\n",
       "        vertical-align: middle;\n",
       "    }\n",
       "\n",
       "    .dataframe tbody tr th {\n",
       "        vertical-align: top;\n",
       "    }\n",
       "\n",
       "    .dataframe thead th {\n",
       "        text-align: right;\n",
       "    }\n",
       "</style>\n",
       "<table border=\"1\" class=\"dataframe\">\n",
       "  <thead>\n",
       "    <tr style=\"text-align: right;\">\n",
       "      <th></th>\n",
       "      <th>Open</th>\n",
       "      <th>High</th>\n",
       "      <th>Low</th>\n",
       "      <th>Close</th>\n",
       "      <th>Adj Close</th>\n",
       "      <th>Volume</th>\n",
       "    </tr>\n",
       "  </thead>\n",
       "  <tbody>\n",
       "    <tr>\n",
       "      <th>count</th>\n",
       "      <td>5265.000000</td>\n",
       "      <td>5265.000000</td>\n",
       "      <td>5265.000000</td>\n",
       "      <td>5265.000000</td>\n",
       "      <td>5265.000000</td>\n",
       "      <td>5.265000e+03</td>\n",
       "    </tr>\n",
       "    <tr>\n",
       "      <th>mean</th>\n",
       "      <td>9213.969064</td>\n",
       "      <td>9259.499930</td>\n",
       "      <td>9164.051780</td>\n",
       "      <td>9214.984676</td>\n",
       "      <td>9214.984676</td>\n",
       "      <td>3.330560e+09</td>\n",
       "    </tr>\n",
       "    <tr>\n",
       "      <th>std</th>\n",
       "      <td>2825.468601</td>\n",
       "      <td>2834.216365</td>\n",
       "      <td>2816.245765</td>\n",
       "      <td>2825.540731</td>\n",
       "      <td>2825.540731</td>\n",
       "      <td>1.490668e+09</td>\n",
       "    </tr>\n",
       "    <tr>\n",
       "      <th>min</th>\n",
       "      <td>4226.310059</td>\n",
       "      <td>4321.759766</td>\n",
       "      <td>4181.750000</td>\n",
       "      <td>4226.310059</td>\n",
       "      <td>4226.310059</td>\n",
       "      <td>0.000000e+00</td>\n",
       "    </tr>\n",
       "    <tr>\n",
       "      <th>25%</th>\n",
       "      <td>6978.859863</td>\n",
       "      <td>7020.339844</td>\n",
       "      <td>6937.189941</td>\n",
       "      <td>6980.620117</td>\n",
       "      <td>6980.620117</td>\n",
       "      <td>2.174890e+09</td>\n",
       "    </tr>\n",
       "    <tr>\n",
       "      <th>50%</th>\n",
       "      <td>8797.160156</td>\n",
       "      <td>8845.830078</td>\n",
       "      <td>8738.690430</td>\n",
       "      <td>8797.290039</td>\n",
       "      <td>8797.290039</td>\n",
       "      <td>3.403230e+09</td>\n",
       "    </tr>\n",
       "    <tr>\n",
       "      <th>75%</th>\n",
       "      <td>11008.759766</td>\n",
       "      <td>11045.639648</td>\n",
       "      <td>10969.940430</td>\n",
       "      <td>11013.240234</td>\n",
       "      <td>11013.240234</td>\n",
       "      <td>4.114040e+09</td>\n",
       "    </tr>\n",
       "    <tr>\n",
       "      <th>max</th>\n",
       "      <td>17310.509766</td>\n",
       "      <td>17364.310547</td>\n",
       "      <td>17285.550781</td>\n",
       "      <td>17310.509766</td>\n",
       "      <td>17310.509766</td>\n",
       "      <td>1.145623e+10</td>\n",
       "    </tr>\n",
       "  </tbody>\n",
       "</table>\n",
       "</div>"
      ],
      "text/plain": [
       "               Open          High           Low         Close     Adj Close  \\\n",
       "count   5265.000000   5265.000000   5265.000000   5265.000000   5265.000000   \n",
       "mean    9213.969064   9259.499930   9164.051780   9214.984676   9214.984676   \n",
       "std     2825.468601   2834.216365   2816.245765   2825.540731   2825.540731   \n",
       "min     4226.310059   4321.759766   4181.750000   4226.310059   4226.310059   \n",
       "25%     6978.859863   7020.339844   6937.189941   6980.620117   6980.620117   \n",
       "50%     8797.160156   8845.830078   8738.690430   8797.290039   8797.290039   \n",
       "75%    11008.759766  11045.639648  10969.940430  11013.240234  11013.240234   \n",
       "max    17310.509766  17364.310547  17285.550781  17310.509766  17310.509766   \n",
       "\n",
       "             Volume  \n",
       "count  5.265000e+03  \n",
       "mean   3.330560e+09  \n",
       "std    1.490668e+09  \n",
       "min    0.000000e+00  \n",
       "25%    2.174890e+09  \n",
       "50%    3.403230e+09  \n",
       "75%    4.114040e+09  \n",
       "max    1.145623e+10  "
      ]
     },
     "execution_count": 4,
     "metadata": {},
     "output_type": "execute_result"
    }
   ],
   "source": [
    "df.describe()"
   ]
  },
  {
   "cell_type": "code",
   "execution_count": 5,
   "id": "1830b9e5",
   "metadata": {},
   "outputs": [
    {
     "name": "stdout",
     "output_type": "stream",
     "text": [
      "<class 'pandas.core.frame.DataFrame'>\n",
      "RangeIndex: 5265 entries, 0 to 5264\n",
      "Data columns (total 7 columns):\n",
      " #   Column     Non-Null Count  Dtype         \n",
      "---  ------     --------------  -----         \n",
      " 0   Date       5265 non-null   datetime64[ns]\n",
      " 1   Open       5265 non-null   float64       \n",
      " 2   High       5265 non-null   float64       \n",
      " 3   Low        5265 non-null   float64       \n",
      " 4   Close      5265 non-null   float64       \n",
      " 5   Adj Close  5265 non-null   float64       \n",
      " 6   Volume     5265 non-null   int64         \n",
      "dtypes: datetime64[ns](1), float64(5), int64(1)\n",
      "memory usage: 288.1 KB\n"
     ]
    }
   ],
   "source": [
    "df.info()"
   ]
  },
  {
   "cell_type": "markdown",
   "id": "5407f9c8",
   "metadata": {},
   "source": [
    "#### No null values in dataset"
   ]
  },
  {
   "cell_type": "code",
   "execution_count": 6,
   "id": "3c9d5662",
   "metadata": {},
   "outputs": [
    {
     "data": {
      "image/png": "[encoded data removed]",
      "text/plain": [
       "<Figure size 800x575 with 2 Axes>"
      ]
     },
     "metadata": {},
     "output_type": "display_data"
    }
   ],
   "source": [
    "df_dt=df.set_index(df['Date'])\n",
    "df_dt.drop(columns=[\"Date\",\"Adj Close\",'Volume'],inplace=True)\n",
    "df_dt[:20]\n",
    "name=\"NYSE\"\n",
    "mpl.plot(df_dt[400:600],type=\"candle\",title = f\"{name} Price\",  style=\"yahoo\")"
   ]
  },
  {
   "cell_type": "code",
   "execution_count": 7,
   "id": "f30f5262",
   "metadata": {
    "scrolled": false
   },
   "outputs": [
    {
     "data": {
      "text/html": [
       "<div>\n",
       "<style scoped>\n",
       "    .dataframe tbody tr th:only-of-type {\n",
       "        vertical-align: middle;\n",
       "    }\n",
       "\n",
       "    .dataframe tbody tr th {\n",
       "        vertical-align: top;\n",
       "    }\n",
       "\n",
       "    .dataframe thead th {\n",
       "        text-align: right;\n",
       "    }\n",
       "</style>\n",
       "<table border=\"1\" class=\"dataframe\">\n",
       "  <thead>\n",
       "    <tr style=\"text-align: right;\">\n",
       "      <th></th>\n",
       "      <th>Date</th>\n",
       "      <th>Open</th>\n",
       "      <th>High</th>\n",
       "      <th>Low</th>\n",
       "      <th>Close</th>\n",
       "      <th>Adj Close</th>\n",
       "      <th>Volume</th>\n",
       "    </tr>\n",
       "  </thead>\n",
       "  <tbody>\n",
       "    <tr>\n",
       "      <th>0</th>\n",
       "      <td>2001-01-02</td>\n",
       "      <td>6785.689941</td>\n",
       "      <td>6785.689941</td>\n",
       "      <td>6785.689941</td>\n",
       "      <td>6785.689941</td>\n",
       "      <td>6785.689941</td>\n",
       "      <td>0</td>\n",
       "    </tr>\n",
       "    <tr>\n",
       "      <th>1</th>\n",
       "      <td>2001-01-03</td>\n",
       "      <td>6968.830078</td>\n",
       "      <td>6968.830078</td>\n",
       "      <td>6968.830078</td>\n",
       "      <td>6968.830078</td>\n",
       "      <td>6968.830078</td>\n",
       "      <td>1880700000</td>\n",
       "    </tr>\n",
       "    <tr>\n",
       "      <th>2</th>\n",
       "      <td>2001-01-04</td>\n",
       "      <td>6894.810059</td>\n",
       "      <td>6894.810059</td>\n",
       "      <td>6894.810059</td>\n",
       "      <td>6894.810059</td>\n",
       "      <td>6894.810059</td>\n",
       "      <td>2169400000</td>\n",
       "    </tr>\n",
       "    <tr>\n",
       "      <th>3</th>\n",
       "      <td>2001-01-05</td>\n",
       "      <td>6774.060059</td>\n",
       "      <td>6774.060059</td>\n",
       "      <td>6774.060059</td>\n",
       "      <td>6774.060059</td>\n",
       "      <td>6774.060059</td>\n",
       "      <td>1430800000</td>\n",
       "    </tr>\n",
       "    <tr>\n",
       "      <th>4</th>\n",
       "      <td>2001-01-08</td>\n",
       "      <td>6759.049805</td>\n",
       "      <td>6759.049805</td>\n",
       "      <td>6759.049805</td>\n",
       "      <td>6759.049805</td>\n",
       "      <td>6759.049805</td>\n",
       "      <td>1115500000</td>\n",
       "    </tr>\n",
       "    <tr>\n",
       "      <th>...</th>\n",
       "      <td>...</td>\n",
       "      <td>...</td>\n",
       "      <td>...</td>\n",
       "      <td>...</td>\n",
       "      <td>...</td>\n",
       "      <td>...</td>\n",
       "      <td>...</td>\n",
       "    </tr>\n",
       "    <tr>\n",
       "      <th>500</th>\n",
       "      <td>2003-01-02</td>\n",
       "      <td>5146.000000</td>\n",
       "      <td>5146.000000</td>\n",
       "      <td>5146.000000</td>\n",
       "      <td>5146.000000</td>\n",
       "      <td>5146.000000</td>\n",
       "      <td>1229200000</td>\n",
       "    </tr>\n",
       "    <tr>\n",
       "      <th>501</th>\n",
       "      <td>2003-01-03</td>\n",
       "      <td>5148.450195</td>\n",
       "      <td>5148.450195</td>\n",
       "      <td>5148.450195</td>\n",
       "      <td>5148.450195</td>\n",
       "      <td>5148.450195</td>\n",
       "      <td>1130800000</td>\n",
       "    </tr>\n",
       "    <tr>\n",
       "      <th>502</th>\n",
       "      <td>2003-01-06</td>\n",
       "      <td>5255.390137</td>\n",
       "      <td>5255.390137</td>\n",
       "      <td>5255.390137</td>\n",
       "      <td>5255.390137</td>\n",
       "      <td>5255.390137</td>\n",
       "      <td>1398100000</td>\n",
       "    </tr>\n",
       "    <tr>\n",
       "      <th>503</th>\n",
       "      <td>2003-01-07</td>\n",
       "      <td>5186.919922</td>\n",
       "      <td>5186.919922</td>\n",
       "      <td>5186.919922</td>\n",
       "      <td>5186.919922</td>\n",
       "      <td>5186.919922</td>\n",
       "      <td>1545200000</td>\n",
       "    </tr>\n",
       "    <tr>\n",
       "      <th>504</th>\n",
       "      <td>2003-01-08</td>\n",
       "      <td>5124.189941</td>\n",
       "      <td>5124.189941</td>\n",
       "      <td>5124.189941</td>\n",
       "      <td>5124.189941</td>\n",
       "      <td>5124.189941</td>\n",
       "      <td>1467600000</td>\n",
       "    </tr>\n",
       "  </tbody>\n",
       "</table>\n",
       "<p>505 rows × 7 columns</p>\n",
       "</div>"
      ],
      "text/plain": [
       "          Date         Open         High          Low        Close  \\\n",
       "0   2001-01-02  6785.689941  6785.689941  6785.689941  6785.689941   \n",
       "1   2001-01-03  6968.830078  6968.830078  6968.830078  6968.830078   \n",
       "2   2001-01-04  6894.810059  6894.810059  6894.810059  6894.810059   \n",
       "3   2001-01-05  6774.060059  6774.060059  6774.060059  6774.060059   \n",
       "4   2001-01-08  6759.049805  6759.049805  6759.049805  6759.049805   \n",
       "..         ...          ...          ...          ...          ...   \n",
       "500 2003-01-02  5146.000000  5146.000000  5146.000000  5146.000000   \n",
       "501 2003-01-03  5148.450195  5148.450195  5148.450195  5148.450195   \n",
       "502 2003-01-06  5255.390137  5255.390137  5255.390137  5255.390137   \n",
       "503 2003-01-07  5186.919922  5186.919922  5186.919922  5186.919922   \n",
       "504 2003-01-08  5124.189941  5124.189941  5124.189941  5124.189941   \n",
       "\n",
       "       Adj Close      Volume  \n",
       "0    6785.689941           0  \n",
       "1    6968.830078  1880700000  \n",
       "2    6894.810059  2169400000  \n",
       "3    6774.060059  1430800000  \n",
       "4    6759.049805  1115500000  \n",
       "..           ...         ...  \n",
       "500  5146.000000  1229200000  \n",
       "501  5148.450195  1130800000  \n",
       "502  5255.390137  1398100000  \n",
       "503  5186.919922  1545200000  \n",
       "504  5124.189941  1467600000  \n",
       "\n",
       "[505 rows x 7 columns]"
      ]
     },
     "execution_count": 7,
     "metadata": {},
     "output_type": "execute_result"
    }
   ],
   "source": [
    "df[df['High']==df['Low']]"
   ]
  },
  {
   "cell_type": "markdown",
   "id": "de980196",
   "metadata": {},
   "source": [
    "Open=High=Low=Close for the first 505 values. I'm not sure if data is buggy, or it doesn't exist"
   ]
  },
  {
   "cell_type": "markdown",
   "id": "68d64ced",
   "metadata": {},
   "source": [
    "## Feature Engineering"
   ]
  },
  {
   "cell_type": "markdown",
   "id": "f3befccd",
   "metadata": {},
   "source": [
    " #### Techincal Indicators being used:\n",
    " 1. Momentum Indicators: \n",
    "    * Momentum (MOM)\n",
    "    * Moving Average Convergence Divergence (MACD)\n",
    "    * Money Flow Index (MFI)\n",
    "    * Relative Strength Index (RSI)\n",
    "    \n",
    "2. Volatility indicators: \n",
    "    * Average True Range (ATR)\n",
    "    * Normalized Average True Range (NATR)\n",
    "    \n",
    "3. cycle indicators:\n",
    "    * Hilbert Transform Dominant Cycle Phase (HTDCP)\n",
    "    * Hilbert Transform Sinewave (HTS)\n",
    "    * Hilbert Transform Trend Market Mode (HTTMM)\n",
    "\n",
    "4. volume indicators: \n",
    "    * Chaikin Oscillator (CO), \n",
    "    * On Balance Volume (OBV).\n",
    "    \n",
    "#### References:\n",
    "1. [TA-Lib Documentation](https://mrjbq7.github.io/ta-lib/doc_index.html)\n",
    "    "
   ]
  },
  {
   "cell_type": "code",
   "execution_count": 8,
   "id": "6bb86f69",
   "metadata": {},
   "outputs": [],
   "source": [
    "#Momentum indicators\n",
    "\n",
    "#real = MOM(close, timeperiod=10)\n",
    "#macd, macdsignal, macdhist = MACD(df['Close'], fastperiod=12, slowperiod=26, signalperiod=9)\n",
    "#real = MFI(high, low, close, volume, timeperiod=14)\n",
    "#real = RSI(close, timeperiod=14)\n",
    "\n",
    "ta=pd.DataFrame()\n",
    "ta['mom']=pd.DataFrame(talib.MOM(df['Close']))\n",
    "ta['macd'], ta['macdsignal'], ta['macdhist'] = talib.MACD(df['Close'])\n",
    "ta['mfi']=talib.MFI(df['High'],df['Low'],df['Close'],df['Volume'])\n",
    "ta['rsi']=talib.RSI(df['Close'])\n",
    "\n",
    "#Volatility Indicators\n",
    "\n",
    "#real = ATR(high, low, close, timeperiod=14)\n",
    "#real = NATR(high, low, close, timeperiod=14)\n",
    "ta['atr'] = talib.ATR(df['High'], df['Low'], df['Close'])\n",
    "ta['natr']=talib.NATR(df['High'], df['Low'], df['Close'])\n",
    "\n",
    "\n",
    "#Cycle Indicators\n",
    "\n",
    "#real = HT_DCPHASE(close)\n",
    "#sine, leadsine = HT_SINE(close)\n",
    "#integer = HT_TRENDMODE(close)\n",
    "ta['htdcp']=talib.HT_DCPHASE(df['Close'])\n",
    "ta['hts'],ta['hts_lead']=talib.HT_SINE(df['Close'])\n",
    "ta['httmm']=talib.HT_TRENDMODE(df['Close'])\n",
    "\n",
    "#Volume Indicators\n",
    "\n",
    "#real = ADOSC(high, low, close, volume, fastperiod=3, slowperiod=10)\n",
    "#real = OBV(close, volume)\n",
    "ta['co']=talib.ADOSC(df['High'], df['Low'], df['Close'], df['Volume'])\n",
    "ta['obv'] = talib.OBV(df['Close'], df['Volume'])"
   ]
  },
  {
   "cell_type": "code",
   "execution_count": 9,
   "id": "15e149cd",
   "metadata": {},
   "outputs": [
    {
     "data": {
      "text/plain": [
       "(5265, 14)"
      ]
     },
     "execution_count": 9,
     "metadata": {},
     "output_type": "execute_result"
    }
   ],
   "source": [
    "ta.shape"
   ]
  },
  {
   "cell_type": "code",
   "execution_count": 10,
   "id": "5197d4d3",
   "metadata": {},
   "outputs": [
    {
     "data": {
      "text/plain": [
       "mom           10\n",
       "macd          33\n",
       "macdsignal    33\n",
       "macdhist      33\n",
       "mfi           14\n",
       "rsi           14\n",
       "atr           14\n",
       "natr          14\n",
       "htdcp         63\n",
       "hts           63\n",
       "hts_lead      63\n",
       "httmm          0\n",
       "co             9\n",
       "obv            0\n",
       "dtype: int64"
      ]
     },
     "execution_count": 10,
     "metadata": {},
     "output_type": "execute_result"
    }
   ],
   "source": [
    "ta.isnull().sum()"
   ]
  },
  {
   "cell_type": "markdown",
   "id": "09218462",
   "metadata": {},
   "source": [
    "### Notes \n",
    "1. talib.MACD outputs 3 variables: macd, macdsignal and macdhist\n",
    "2. talib.ht_SINE ouputs 2 variables: sine, leadsine\n",
    "3. Leading null values in generated TAs due to aggregation\n",
    "4. Drop extra columns and null values"
   ]
  },
  {
   "cell_type": "markdown",
   "id": "47f20e43",
   "metadata": {},
   "source": [
    "### Further Steps\n",
    "1. Explore inconsistency in dataset\n",
    "2. Normalization\n",
    "3. PCA\n",
    "4. DWT\n"
   ]
  }
 ],
 "metadata": {
  "kernelspec": {
   "display_name": "Python 3 (ipykernel)",
   "language": "python",
   "name": "python3"
  },
  "language_info": {
   "codemirror_mode": {
    "name": "ipython",
    "version": 3
   },
   "file_extension": ".py",
   "mimetype": "text/x-python",
   "name": "python",
   "nbconvert_exporter": "python",
   "pygments_lexer": "ipython3",
   "version": "3.8.10"
  }
 },
 "nbformat": 4,
 "nbformat_minor": 5
}
